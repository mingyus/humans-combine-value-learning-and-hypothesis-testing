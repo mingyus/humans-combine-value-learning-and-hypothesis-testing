{
 "cells": [
  {
   "cell_type": "code",
   "execution_count": 1,
   "metadata": {},
   "outputs": [
    {
     "name": "stderr",
     "output_type": "stream",
     "text": [
      "/Users/mingyusong/anaconda3/envs/rule-learning/lib/python3.7/site-packages/statsmodels/tools/_testing.py:19: FutureWarning: pandas.util.testing is deprecated. Use the functions in the public API at pandas.testing instead.\n",
      "  import pandas.util.testing as tm\n"
     ]
    }
   ],
   "source": [
    "import numpy as np\n",
    "import pandas as pd\n",
    "import matplotlib.pyplot as plt\n",
    "import matplotlib.cm as cm\n",
    "import seaborn as sns\n",
    "import os\n",
    "import sys\n",
    "\n",
    "from statsmodels.stats.anova import AnovaRM\n",
    "\n",
    "from utilities import *\n",
    "from taskSetting import *\n",
    "from expsInfo import *\n",
    "from modelSpecificities import *\n",
    "from funcs_loadData import *"
   ]
  },
  {
   "cell_type": "markdown",
   "metadata": {},
   "source": [
    "## Model comparison"
   ]
  },
  {
   "cell_type": "code",
   "execution_count": 2,
   "metadata": {},
   "outputs": [],
   "source": [
    "def model_comparison(action):\n",
    "\n",
    "    if action == 'main':\n",
    "\n",
    "        models = [\n",
    "            'myopicBayesianNoCost',\n",
    "            'featureRLwDecayNoCost',\n",
    "            'inferSerialHypoTesting_CountingRandomSwitchEpsilonNoCost_FlexibleHypoAvg',\n",
    "            'inferSerialHypoTesting_CountingValueBasedSwitchNoResetDecayEpsilonNoCost_FlexibleHypoAvg',\n",
    "        ]\n",
    "\n",
    "        modelLabel = {\n",
    "            'myopicBayesianNoCost': 'Bayesian rule learning',\n",
    "            'featureRLwDecayNoCost': 'Feature RL with decay',\n",
    "            'inferSerialHypoTesting_CountingRandomSwitchEpsilonNoCost_FlexibleHypoAvg': 'Random-switch SHT',\n",
    "            'inferSerialHypoTesting_CountingValueBasedSwitchNoResetDecayEpsilonNoCost_FlexibleHypoAvg': 'Value-based SHT',\n",
    "        }\n",
    "\n",
    "    elif action == 'valueSHT':\n",
    "\n",
    "        models = [\n",
    "            'inferSerialHypoTesting_CountingValueBasedSwitchNoResetDecayEpsilonNoCost_FlexibleHypoAvg',\n",
    "            'inferSerialHypoTesting_CountingDiffThresValueBasedSwitchNoResetDecayEpsilonNoCost_FlexibleHypoAvg',\n",
    "            'inferSerialHypoTesting_CountingValueBasedSwitchNoResetDecayThresonTestEpsilonNoCost_FlexibleHypoAvg',\n",
    "            'inferSerialHypoTesting_CountingRandomSwitchEpsilonNoCost_FlexibleHypoAvg',\n",
    "            'inferSerialHypoTesting_CountingValueBasedSwitchNoResetDecaySelectMoreNoCost_FlexibleHypoAvg',\n",
    "            'inferSerialHypoTesting_CountingValueBasedSwitchNoResetDecayThresonTestSelectMoreNoCost_FlexibleHypoAvg',\n",
    "        ]\n",
    "\n",
    "        refModel = models[0]\n",
    "        fullModel = models[-1]\n",
    "\n",
    "        modelLabel = {\n",
    "            'inferSerialHypoTesting_CountingValueBasedSwitchNoResetDecayEpsilonNoCost_FlexibleHypoAvg': 'Baseline model',\n",
    "            'inferSerialHypoTesting_CountingDiffThresValueBasedSwitchNoResetDecayEpsilonNoCost_FlexibleHypoAvg': 'Hypothesis testing policy: reward probs     ',\n",
    "            'inferSerialHypoTesting_CountingValueBasedSwitchNoResetDecayThresonTestEpsilonNoCost_FlexibleHypoAvg': 'Testing hypothesis: sometimes',\n",
    "            'inferSerialHypoTesting_CountingRandomSwitchEpsilonNoCost_FlexibleHypoAvg': 'Switch policy: random                            ',\n",
    "            'inferSerialHypoTesting_CountingValueBasedSwitchNoResetDecaySelectMoreNoCost_FlexibleHypoAvg': 'Choice policy: selecting more',\n",
    "            'inferSerialHypoTesting_CountingValueBasedSwitchNoResetDecayThresonTestSelectMoreNoCost_FlexibleHypoAvg': 'Full model'\n",
    "        }\n",
    "\n",
    "        colors = ['C1', 'C2', 'C4', 'C5', 'w'] #, 'C6'\n",
    "\n",
    "    elif action == 'others':\n",
    "        models = [\n",
    "            'featureRLSameEtaNoCost',\n",
    "            'conjunctionRLNoCost',\n",
    "            'conjunctionRLNoCostFlexChoice',\n",
    "            'expertRL',\n",
    "        ]\n",
    "\n",
    "        refModel = models[0]\n",
    "        fullModel = models[-1]\n",
    "\n",
    "        modelLabel = {\n",
    "            'featureRLSameEtaNoCost': 'Feature-based RL',\n",
    "            'conjunctionRLNoCost': 'Conjunction-based RL',\n",
    "            'conjunctionRLNoCostFlexChoice': 'Conjunction-based RL\\n(generalization at choice)',\n",
    "            'expertRL': 'Expert RL',\n",
    "        }\n",
    "\n",
    "    # Load data\n",
    "    data, workerIds = load_data(expVersion='all', getWorkerIds=True)    \n",
    "\n",
    "    workerIdList, modelList, negllhList, lik_geomeanList = emptyLists(4)\n",
    "    for model in models:\n",
    "        numPars = len(parameterName[model])\n",
    "        for workerId in workerIds:\n",
    "            workerIdList.append(workerId)\n",
    "            modelList.append(model)\n",
    "            ifFlatPrior = None if 'Bayesian' not in model else False\n",
    "            fileNameTotal = getFittingCollectFileName(model=model, expVersion=expVersion, ifFlatPrior=ifFlatPrior, fittingAlgorithm=fittingAlgorithm, CV='total')\n",
    "            if os.path.exists('fittingResultsCollectCV/'+fileNameTotal):\n",
    "                CVTotal = pd.read_csv('fittingResultsCollectCV/'+fileNameTotal)\n",
    "                negllh = CVTotal.loc[CVTotal['workerId']==workerId,'negllhTest'].values[0]\n",
    "                NValidTrials = data[(~data['rt'].isnull())&(data['workerId']==workerId)].shape[0]\n",
    "                negllhList.append(negllh)\n",
    "                lik_geomeanList.append(np.exp(-negllh/NValidTrials))\n",
    "            else:\n",
    "                negllhList.append(np.nan)\n",
    "                lik_geomeanList.append(np.nan)\n",
    "    fittingResults = pd.DataFrame({'workerId': workerIdList, 'model': modelList, 'negllh': negllhList, 'lik_geomean': lik_geomeanList})\n",
    "\n",
    "    # compare the likelihood per trial of all models (bar plot)\n",
    "    mean = fittingResults.groupby(['model']).mean().loc[models, 'lik_geomean'].values\n",
    "    se = fittingResults.groupby(['model']).std().loc[models, 'lik_geomean'] / np.sqrt(len(workerIds))\n",
    "\n",
    "    if action == 'valueSHT':\n",
    "        likDiffmean, likDiffse = np.empty(len(models)), np.empty(len(models))\n",
    "        iM = 0\n",
    "        for model in models:\n",
    "            if model != refModel:\n",
    "                likDiff = fittingResults.loc[fittingResults['model']==model, 'lik_geomean'].values - fittingResults.loc[fittingResults['model']==refModel, 'lik_geomean'].values\n",
    "                likDiffmean[iM] = np.mean(likDiff)\n",
    "                likDiffse[iM] = np.std(likDiff) / np.sqrt(len(workerIds))\n",
    "                iM += 1\n",
    "\n",
    "    plt.rcParams.update({'font.size': 7.5})\n",
    "    if action == 'main':\n",
    "        fig, ax = plt.subplots(1, figsize=(3, 1.8))\n",
    "    elif action == 'valueSHT':\n",
    "        fig, ax = plt.subplots(1, figsize=(4, 2))\n",
    "    else:\n",
    "        fig, ax = plt.subplots(1, figsize=(3, 1.8))\n",
    "    iM = 0\n",
    "    for model in models:\n",
    "        if action != 'valueSHT':\n",
    "            ax.barh(iM, mean[iM], color='w', edgecolor='k', xerr=se[iM], error_kw={'elinewidth':1})\n",
    "            iM += 1\n",
    "        else:\n",
    "            if model != refModel:\n",
    "                ax.barh(iM, likDiffmean[iM], color=colors[iM], edgecolor='k', xerr=likDiffse[iM], error_kw={'elinewidth':1}, alpha=.7 if model != fullModel else 1)\n",
    "                iM += 1\n",
    "    ax.yaxis.set_ticks_position('left')\n",
    "    ax.yaxis.set_label_position('left')\n",
    "    ax.spines['left'].set_position(('data', 0))\n",
    "    ax.set_yticks(np.arange(len(models)))\n",
    "    ax.set_yticklabels([modelLabel[model] for model in models]) #, rotation=45, horizontalalignment='left'\n",
    "    ax.set_ylim([-0.7, len(models) - 0.3])\n",
    "    ax.set_xlabel('Likelihood per trial', labelpad=5)\n",
    "    ax.tick_params(axis='both', length=3, pad=5)\n",
    "    ax.spines['top'].set_visible(False)\n",
    "    ax.spines['right'].set_visible(False)\n",
    "    if action == 'main':\n",
    "        ax.vlines(x=1/63, ymin=ax.get_ylim()[0], ymax=ax.get_ylim()[1], colors='k', linestyles='dashed', linewidth=1)\n",
    "    elif action == 'valueSHT':\n",
    "        ax.set_yticks(np.arange(iM))\n",
    "        ax.set_yticklabels([modelLabel[model] for model in models if model!=refModel])\n",
    "        ax.tick_params(axis='y', length=0, pad=10)\n",
    "        ax.set_xlabel('Likelihood difference per trial', labelpad=5)\n",
    "        ax.set_ylim([-0.7, len([model for model in models if model!=refModel]) - 0.3])\n",
    "        ax.set_xlim([-0.05, 0.07])\n",
    "        plt.subplots_adjust(left=0.15)\n",
    "    ax.invert_yaxis()\n",
    "    plt.tight_layout()\n",
    "    plt.show()"
   ]
  },
  {
   "cell_type": "markdown",
   "metadata": {},
   "source": [
    "###"
   ]
  },
  {
   "cell_type": "markdown",
   "metadata": {},
   "source": [
    "### Main models (Fig 4A)"
   ]
  },
  {
   "cell_type": "code",
   "execution_count": 3,
   "metadata": {},
   "outputs": [
    {
     "data": {
      "image/png": "[encoded data removed]",
      "text/plain": [
       "<Figure size 216x129.6 with 1 Axes>"
      ]
     },
     "metadata": {
      "needs_background": "light"
     },
     "output_type": "display_data"
    }
   ],
   "source": [
    "model_comparison('main')"
   ]
  },
  {
   "cell_type": "markdown",
   "metadata": {},
   "source": [
    "### Variants of value-based SHT models (Fig S4B)"
   ]
  },
  {
   "cell_type": "code",
   "execution_count": 4,
   "metadata": {},
   "outputs": [
    {
     "data": {
      "image/png": "[encoded data removed]",
      "text/plain": [
       "<Figure size 288x144 with 1 Axes>"
      ]
     },
     "metadata": {
      "needs_background": "light"
     },
     "output_type": "display_data"
    }
   ],
   "source": [
    "model_comparison('valueSHT')"
   ]
  },
  {
   "cell_type": "markdown",
   "metadata": {},
   "source": [
    "## Model component contribution (Fig 5C,D)"
   ]
  },
  {
   "cell_type": "code",
   "execution_count": 5,
   "metadata": {},
   "outputs": [],
   "source": [
    "action = 'main'"
   ]
  },
  {
   "cell_type": "code",
   "execution_count": 6,
   "metadata": {},
   "outputs": [
    {
     "data": {
      "image/png": "[encoded data removed]",
      "text/plain": [
       "<Figure size 342x129.6 with 2 Axes>"
      ]
     },
     "metadata": {
      "needs_background": "light"
     },
     "output_type": "display_data"
    }
   ],
   "source": [
    "plt.rcParams.update({'font.size': 7.5})\n",
    "\n",
    "if action == 'main':\n",
    "    models = ['inferSerialHypoTesting_CountingValueBasedSwitchNoResetDecayEpsilonNoCost_FlexibleHypoAvg'] * 2\n",
    "    refModels = ['featureRLwDecayNoCost', 'inferSerialHypoTesting_CountingRandomSwitchEpsilonNoCost_FlexibleHypoAvg']\n",
    "elif action == 'full':\n",
    "    models = ['inferSerialHypoTesting_CountingValueBasedSwitchNoResetDecayThresonTestSelectMoreNoCost_FlexibleHypoAvg'] * 2\n",
    "    refModels = ['featureRLwDecayNoCost', 'inferSerialHypoTesting_CountingRandomSwitchThresonTestSelectMoreNoCost_FlexibleHypoAvg']\n",
    "\n",
    "titles = ['Contribution of SHT', 'Contribution of RL']\n",
    "\n",
    "# Load data\n",
    "data, workerIds = load_data(expVersion='all', getWorkerIds=True)\n",
    "\n",
    "for model in list(set(models + refModels)):\n",
    "    dataThisModel = pd.read_csv('fittingResultsCVTrialLik/' + model + '_' + expVersion + '_allWorkers.csv')\n",
    "    data[model + '_loglikelihood'] = dataThisModel[model + '_loglikelihood']\n",
    "\n",
    "fig, axes = plt.subplots(1, len(models), figsize=(2.2*len(models)+0.35, 1.8), sharex=True)\n",
    "dfANOVAList = []\n",
    "for iM in range(len(models)):\n",
    "    dfANOVAmodelList = []\n",
    "    ax = axes[iM]\n",
    "    model = models[iM]\n",
    "    refModel = refModels[iM]\n",
    "    for numRelevantDimensions in np.arange(len(DIMENSIONS)) + 1:\n",
    "        for informed in [True, False]:\n",
    "            dataCond = data[(data['numRelevantDimensions'] == numRelevantDimensions) & (data['informed'] == informed)].copy()\n",
    "            lik_diff = [(np.exp(dataCond.groupby('workerId')[model + '_loglikelihood'].mean()) - np.exp(\n",
    "                dataCond.groupby('workerId')[refModel + '_loglikelihood'].mean()))[workerId] for workerId in workerIds]  # groupby mean by default skips nan\n",
    "            dfanova = pd.DataFrame({'dv': lik_diff, 'participant': workerIds, 'model': [iM]*len(workerIds), \n",
    "            'numRelevantDimensions': [numRelevantDimensions]*len(workerIds), 'informed': [informed]*len(workerIds)})\n",
    "            dfANOVAList.append(dfanova)\n",
    "            dfANOVAmodelList.append(dfanova)\n",
    "            mean = np.mean(lik_diff)\n",
    "            se = np.std(lik_diff) / np.sqrt(len(workerIds))\n",
    "            p = ax.bar(x=numRelevantDimensions + (-0.2 if informed else 0.2), height=mean, width=0.4, yerr=se,\n",
    "                        color='red' if informed else 'blue',\n",
    "                        label=('Known' if informed else 'Unknown') if numRelevantDimensions == 1 else None, error_kw={'elinewidth':1}, alpha=.8)\n",
    "    ax.set_xticks([1, 2, 3])\n",
    "    ax.spines['bottom'].set_position('zero')\n",
    "    sns.despine()\n",
    "    ax.tick_params(axis='x', length=0, pad=3)\n",
    "    ax.tick_params(axis='y', length=3)\n",
    "    ax.set_xlabel(xlabel='# relevant dimensions', labelpad=3)\n",
    "    ax.set_ylabel(ylabel='$\\Delta$ likelihood per trial', labelpad=3)\n",
    "    ax.set_title(titles[iM], pad=5, fontsize=8)\n",
    "    ax.set_ylim([-0.01, 0.22])\n",
    "    ax.set_yticks([0, 0.05, 0.1, 0.15, 0.2])\n",
    "\n",
    "    # anova\n",
    "#     dfANOVA = pd.concat(dfANOVAmodelList)\n",
    "#     aovrm = AnovaRM(data=dfANOVA, depvar='dv', subject='participant', within=['informed', 'numRelevantDimensions'], aggregate_func=np.nanmean)\n",
    "#     print('Repeated measures ANOVA: ' + titles[iM] + '\\n', aovrm.fit())\n",
    "ax.legend(frameon=False)\n",
    "plt.tight_layout()\n",
    "plt.subplots_adjust(wspace=0.5)\n",
    "plt.show()\n",
    "\n",
    "# anova\n",
    "# dfANOVA = pd.concat(dfANOVAList)\n",
    "# dfANOVA.to_csv('contribution_SHT_RL_CV_' + expVersion +'.csv')\n",
    "# aovrm = AnovaRM(data=dfANOVA, depvar='dv', subject='participant', within=['informed', 'numRelevantDimensions', 'model'], aggregate_func=np.nanmean)\n",
    "# print('Repeated measures ANOVA:\\n', aovrm.fit())\n"
   ]
  },
  {
   "cell_type": "markdown",
   "metadata": {},
   "source": [
    "## Alternative model fits broken down by game type (Fig S2A)"
   ]
  },
  {
   "cell_type": "code",
   "execution_count": 7,
   "metadata": {},
   "outputs": [
    {
     "data": {
      "image/png": "[encoded data removed]",
      "text/plain": [
       "<Figure size 864x194.4 with 4 Axes>"
      ]
     },
     "metadata": {
      "needs_background": "light"
     },
     "output_type": "display_data"
    }
   ],
   "source": [
    "plt.rcParams.update({'font.size': 12})\n",
    "\n",
    "models = [\n",
    "    'myopicBayesianNoCost',\n",
    "    'featureRLwDecayNoCost',\n",
    "    'inferSerialHypoTesting_CountingRandomSwitchEpsilonNoCost_FlexibleHypoAvg',\n",
    "    'inferSerialHypoTesting_CountingValueBasedSwitchNoResetDecayEpsilonNoCost_FlexibleHypoAvg',\n",
    "]\n",
    "\n",
    "modelLabel = {\n",
    "    'myopicBayesianNoCost': 'Bayesian rule learning',\n",
    "    'featureRLwDecayNoCost': 'Feature RL with decay',\n",
    "    'inferSerialHypoTesting_CountingRandomSwitchEpsilonNoCost_FlexibleHypoAvg': 'Random-switch SHT',\n",
    "    'inferSerialHypoTesting_CountingValueBasedSwitchNoResetDecayEpsilonNoCost_FlexibleHypoAvg': 'Value-based SHT',\n",
    "}\n",
    "\n",
    "fig, axes = plt.subplots(1, 4, figsize=(12, 2.7), sharey=True)\n",
    "\n",
    "for i, model in enumerate(models):\n",
    "    dataThisModel = pd.read_csv('fittingResultsCVTrialLik/' + model + '_' + expVersion + '_allWorkers.csv')\n",
    "    data[model + '_loglikelihood'] = dataThisModel[model + '_loglikelihood']\n",
    "    ax = axes[i]\n",
    "    for numRelevantDimensions in np.arange(len(DIMENSIONS)) + 1:\n",
    "        for informed in [True, False]:\n",
    "            dataCond = data[(data['numRelevantDimensions'] == numRelevantDimensions) & (data['informed'] == informed)].copy()\n",
    "            lik = [(np.exp(dataCond.groupby('workerId')[model + '_loglikelihood'].mean()))[workerId] for workerId in workerIds]  # groupby mean by default skips nan\n",
    "            mean = np.mean(lik)\n",
    "            se = np.std(lik) / np.sqrt(len(workerIds))\n",
    "            p = ax.bar(x=numRelevantDimensions + (-0.2 if informed else 0.2), height=mean, width=0.4, yerr=se,\n",
    "                        color='red' if informed else 'blue',\n",
    "                        label=('Known' if informed else 'Unknown') if numRelevantDimensions == 1 else None, error_kw={'elinewidth':1}, alpha=.8)\n",
    "    ax.set_xticks([1, 2, 3])\n",
    "    ax.spines['bottom'].set_position('zero')\n",
    "    sns.despine()\n",
    "    ax.tick_params(axis='x', length=0, pad=7)\n",
    "    ax.tick_params(axis='y', length=3)\n",
    "    ax.set_xlabel(xlabel='# relevant dimensions', labelpad=7)\n",
    "    ax.set_ylabel(ylabel='Likelihood per trial', labelpad=7)\n",
    "    ax.set_ylim([-0.01, 0.35])\n",
    "    ax.set_yticks([0, 0.1, 0.2, 0.3])\n",
    "    ax.set_title(modelLabel[model], pad=7, fontsize=13)\n",
    "    \n",
    "axes[0].legend(frameon=False)\n",
    "plt.tight_layout()\n",
    "plt.subplots_adjust(wspace=0.3)\n",
    "plt.show()"
   ]
  },
  {
   "cell_type": "markdown",
   "metadata": {},
   "source": [
    "## Model parameter estimates (Fig S2B)"
   ]
  },
  {
   "cell_type": "code",
   "execution_count": 8,
   "metadata": {},
   "outputs": [],
   "source": [
    "fit = pd.read_csv('fittingResultsCollect/inferSerialHypoTesting_CountingValueBasedSwitchNoResetDecayThresonTestSelectMoreNoCost_FlexibleHypoAvg_all_L-BFGS-B.csv', header=0)\n",
    "\n",
    "def normalize(h):\n",
    "    return [h[0] * 9, h[1] * 27, h[2] * 27] / (h[0] * 9 + h[1] * 27 + h[2] * 27)\n",
    "\n",
    "n_workers = fit['workerId'].nunique()\n",
    "prior = [np.zeros((n_workers, 3)) for _ in range(4)]\n",
    "for i, workerId in enumerate(fit['workerId'].unique()):\n",
    "    wl = fit.loc[fit['workerId']==workerId, 'wl'].values\n",
    "    wh = fit.loc[fit['workerId']==workerId, 'wh'].values\n",
    "    p = [[1, wh, wh], [wl, 1, wh], [wl, wl, 1]]\n",
    "    for d in range(3):\n",
    "        prior[d][i, :] = np.array(normalize(p[d]))\n",
    "prior[3] = (prior[0] + prior[1] + prior[2])/3"
   ]
  },
  {
   "cell_type": "code",
   "execution_count": 9,
   "metadata": {},
   "outputs": [
    {
     "data": {
      "image/png": "[encoded data removed]",
      "text/plain": [
       "<Figure size 1152x216 with 4 Axes>"
      ]
     },
     "metadata": {
      "needs_background": "light"
     },
     "output_type": "display_data"
    }
   ],
   "source": [
    "fig, axes = plt.subplots(1, 4, figsize=(16,3), sharey=True)\n",
    "for i, ax in enumerate(axes):\n",
    "    mean = np.mean(prior[i], axis=0)\n",
    "    sem = np.std(prior[i], axis=0) / np.sqrt(n_workers)\n",
    "    for j in range(3):\n",
    "        ax.bar(x=j, height=mean[j], color='r' if i < 3 else 'b', alpha=1 if i==j else .3)\n",
    "    ax.errorbar(x=range(3), y=mean, yerr=sem, linestyle='none', color='k', capsize=3)\n",
    "    ax.set_xticks(range(3))\n",
    "    ax.set_xticklabels([1,2,3])\n",
    "    ax.set_xlabel('Hypothesis dimension')\n",
    "    ax.set_title(f'{i+1}D known' if i < 3 else 'Unknown')\n",
    "axes[0].set_ylabel('Prior probability')\n",
    "sns.despine()"
   ]
  }
 ],
 "metadata": {
  "kernelspec": {
   "display_name": "Python 3",
   "language": "python",
   "name": "python3"
  },
  "language_info": {
   "codemirror_mode": {
    "name": "ipython",
    "version": 3
   },
   "file_extension": ".py",
   "mimetype": "text/x-python",
   "name": "python",
   "nbconvert_exporter": "python",
   "pygments_lexer": "ipython3",
   "version": "3.7.5"
  }
 },
 "nbformat": 4,
 "nbformat_minor": 4
}
